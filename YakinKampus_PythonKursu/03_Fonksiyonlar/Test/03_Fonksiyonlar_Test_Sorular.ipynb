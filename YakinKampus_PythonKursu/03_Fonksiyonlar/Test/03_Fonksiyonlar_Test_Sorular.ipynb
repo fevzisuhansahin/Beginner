{
 "cells": [
  {
   "cell_type": "markdown",
   "metadata": {},
   "source": [
    "## Fonksiyon Uygulamasi"
   ]
  },
  {
   "cell_type": "markdown",
   "metadata": {},
   "source": [
    "### Bilgi:\n",
    "3 üzeri 2 = 9 \n",
    "Python'da üstel sayilari hesaplamak icin 3**2 seklinde gösterilir. "
   ]
  },
  {
   "cell_type": "code",
   "execution_count": 5,
   "metadata": {},
   "outputs": [
    {
     "data": {
      "text/plain": [
       "9"
      ]
     },
     "execution_count": 5,
     "metadata": {},
     "output_type": "execute_result"
    }
   ],
   "source": [
    "3**2"
   ]
  },
  {
   "cell_type": "markdown",
   "metadata": {},
   "source": [
    "#### Soru 1: Asagidaki fonskiyonu 2 parametre alacak ve üstel sonucu return edecek bicimde doldurun"
   ]
  },
  {
   "cell_type": "code",
   "execution_count": 7,
   "metadata": {},
   "outputs": [
    {
     "data": {
      "text/plain": [
       "1.44"
      ]
     },
     "execution_count": 7,
     "metadata": {},
     "output_type": "execute_result"
    }
   ],
   "source": [
    "def ustel_sayi_v1(a,b):\n",
    "    return a**b\n",
    "\n",
    "ustel_sayi_v1(1.2,2)\n"
   ]
  },
  {
   "cell_type": "markdown",
   "metadata": {},
   "source": [
    "#### Soru 2: Asagidaki fonskiyonu 2 parametre alacak ve üstel sonucu return edecek bicimde  ve  ** yerine for döngüsü ile hesaplayacak bicimde olusturun"
   ]
  },
  {
   "cell_type": "code",
   "execution_count": 27,
   "metadata": {},
   "outputs": [
    {
     "name": "stdout",
     "output_type": "stream",
     "text": [
      "-1\n"
     ]
    }
   ],
   "source": [
    "def ustel_sayi_v2(a,b):\n",
    "    sonuc = 1\n",
    "    if b == 0:\n",
    "        sonuc = 1\n",
    "    else:    \n",
    "        for i in range(b):\n",
    "            sonuc = sonuc*a\n",
    "        \n",
    "    print(sonuc)\n",
    "    \n",
    "ustel_sayi_v2(-1,3)"
   ]
  },
  {
   "cell_type": "markdown",
   "metadata": {},
   "source": [
    "### Bilgi:\n",
    ".sort() komutu listeyi kücükten büyüge siralar"
   ]
  },
  {
   "cell_type": "code",
   "execution_count": 2,
   "metadata": {},
   "outputs": [
    {
     "data": {
      "text/plain": [
       "[1, 2, 3, 4, 5]"
      ]
     },
     "execution_count": 2,
     "metadata": {},
     "output_type": "execute_result"
    }
   ],
   "source": [
    "liste = [1,5,2,3,4]\n",
    "liste.sort()\n",
    "liste"
   ]
  },
  {
   "cell_type": "markdown",
   "metadata": {},
   "source": [
    "#### Soru 3: Asagidaki fonskiyonu 1 parametre alacak (sadece sayilardan olusan liste tipinde) ve en büyük iki sayiyi döndürecek bicimde olusturun"
   ]
  },
  {
   "cell_type": "code",
   "execution_count": 15,
   "metadata": {},
   "outputs": [
    {
     "ename": "ValueError",
     "evalue": "could not convert string to float: 'a'",
     "output_type": "error",
     "traceback": [
      "\u001b[1;31m---------------------------------------------------------------------------\u001b[0m",
      "\u001b[1;31mValueError\u001b[0m                                Traceback (most recent call last)",
      "Cell \u001b[1;32mIn[15], line 16\u001b[0m\n\u001b[0;32m     13\u001b[0m     a\u001b[38;5;241m.\u001b[39msort()\n\u001b[0;32m     14\u001b[0m     \u001b[38;5;28mprint\u001b[39m(\u001b[38;5;124mf\u001b[39m\u001b[38;5;124m\"\u001b[39m\u001b[38;5;124mBu listenin en büyük iki sayısı \u001b[39m\u001b[38;5;132;01m{\u001b[39;00ma[\u001b[38;5;241m-\u001b[39m\u001b[38;5;241m1\u001b[39m]\u001b[38;5;132;01m}\u001b[39;00m\u001b[38;5;124m ve \u001b[39m\u001b[38;5;132;01m{\u001b[39;00ma[\u001b[38;5;241m-\u001b[39m\u001b[38;5;241m2\u001b[39m]\u001b[38;5;132;01m}\u001b[39;00m\u001b[38;5;124m dir\u001b[39m\u001b[38;5;124m\"\u001b[39m)\n\u001b[1;32m---> 16\u001b[0m \u001b[43mlistedeki_en_buyuk_iki_sayi\u001b[49m\u001b[43m(\u001b[49m\u001b[43m[\u001b[49m\u001b[38;5;241;43m1\u001b[39;49m\u001b[43m,\u001b[49m\u001b[38;5;241;43m2\u001b[39;49m\u001b[43m,\u001b[49m\u001b[38;5;241;43m3\u001b[39;49m\u001b[43m,\u001b[49m\u001b[38;5;241;43m4\u001b[39;49m\u001b[43m,\u001b[49m\u001b[38;5;124;43m\"\u001b[39;49m\u001b[38;5;124;43ma\u001b[39;49m\u001b[38;5;124;43m\"\u001b[39;49m\u001b[43m]\u001b[49m\u001b[43m)\u001b[49m\n\u001b[0;32m     19\u001b[0m \u001b[38;5;124;03m\"\"\"def listedeki_en_buyuk_iki_sayi(a):\u001b[39;00m\n\u001b[0;32m     20\u001b[0m \u001b[38;5;124;03m    if not isinstance(a, list):\u001b[39;00m\n\u001b[0;32m     21\u001b[0m \u001b[38;5;124;03m        print(\"Liste türünde girmediniz\")\u001b[39;00m\n\u001b[1;32m   (...)\u001b[0m\n\u001b[0;32m     33\u001b[0m \u001b[38;5;124;03mlistedeki_en_buyuk_iki_sayi([1, 2, 3, 4, \"a\"])  # Sayı olmayan öge var\u001b[39;00m\n\u001b[0;32m     34\u001b[0m \u001b[38;5;124;03mlistedeki_en_buyuk_iki_sayi([1, 2, 3, 4, 5])    # Bu listenin en büyük iki sayısı 5 ve 4 dir\"\"\"\u001b[39;00m\n\u001b[0;32m     36\u001b[0m \u001b[38;5;124;03m\"\"\"\u001b[39;00m\n\u001b[0;32m     37\u001b[0m \u001b[38;5;124;03mparametre: icerisinde sadece sayi iceren \u001b[39;00m\n\u001b[0;32m     38\u001b[0m \u001b[38;5;124;03mtip:       liste\u001b[39;00m\n\u001b[1;32m   (...)\u001b[0m\n\u001b[0;32m     43\u001b[0m \u001b[38;5;124;03mr-örnek:   10                 6\u001b[39;00m\n\u001b[0;32m     44\u001b[0m \u001b[38;5;124;03m\"\"\"\u001b[39;00m\n",
      "Cell \u001b[1;32mIn[15], line 7\u001b[0m, in \u001b[0;36mlistedeki_en_buyuk_iki_sayi\u001b[1;34m(a)\u001b[0m\n\u001b[0;32m      4\u001b[0m     \u001b[38;5;28;01mreturn\u001b[39;00m\n\u001b[0;32m      6\u001b[0m \u001b[38;5;28;01mfor\u001b[39;00m i \u001b[38;5;129;01min\u001b[39;00m a:\n\u001b[1;32m----> 7\u001b[0m     \u001b[38;5;28;01mif\u001b[39;00m i \u001b[38;5;241m!=\u001b[39m \u001b[38;5;28;43mfloat\u001b[39;49m\u001b[43m(\u001b[49m\u001b[43mi\u001b[49m\u001b[43m)\u001b[49m:\n\u001b[0;32m      8\u001b[0m         \u001b[38;5;28mprint\u001b[39m(\u001b[38;5;124m\"\u001b[39m\u001b[38;5;124msayı olmayan öge var\u001b[39m\u001b[38;5;124m\"\u001b[39m)\n\u001b[0;32m      9\u001b[0m         \u001b[38;5;28;01mreturn\u001b[39;00m\n",
      "\u001b[1;31mValueError\u001b[0m: could not convert string to float: 'a'"
     ]
    }
   ],
   "source": [
    "def listedeki_en_buyuk_iki_sayi(a):\n",
    "    if a != list(a):\n",
    "        print(\"Liste türünde girmediniz\")  \n",
    "        return\n",
    "    \n",
    "    for i in a:\n",
    "        if i != float(i):\n",
    "            print(\"sayı olmayan öge var\")\n",
    "            return\n",
    "\n",
    "    a = list(a)\n",
    "    a.sort()\n",
    "    print(f\"Bu listenin en büyük iki sayısı {a[-1]} ve {a[-2]} dir\")\n",
    "    \n",
    "listedeki_en_buyuk_iki_sayi([1,2,3,4,\"a\"])\n",
    "    \n",
    "    \n",
    "\"\"\"def listedeki_en_buyuk_iki_sayi(a):\n",
    "    if not isinstance(a, list):\n",
    "        print(\"Liste türünde girmediniz\")\n",
    "        return\n",
    "\n",
    "    for i in a:\n",
    "        if not isinstance(i, (int, float)):\n",
    "            print(\"Listede sayı olmayan öge var\")\n",
    "            return\n",
    "    \n",
    "    a.sort()\n",
    "    print(f\"Bu listenin en büyük iki sayısı {a[-1]} ve {a[-2]} dir\")\n",
    "\n",
    "# Fonksiyonun çağrılması\n",
    "listedeki_en_buyuk_iki_sayi([1, 2, 3, 4, \"a\"])  # Sayı olmayan öge var\n",
    "listedeki_en_buyuk_iki_sayi([1, 2, 3, 4, 5])    # Bu listenin en büyük iki sayısı 5 ve 4 dir\"\"\"\n",
    "\n",
    "\"\"\"\n",
    "parametre: icerisinde sadece sayi iceren \n",
    "tip:       liste\n",
    "örnek:     [1,5,10,2,6]\n",
    "\n",
    "r-return:  en büyük sayi      en büyük ikinci sayi\n",
    "r-tip:     integer            integer\n",
    "r-örnek:   10                 6\n",
    "\"\"\"\n"
   ]
  },
  {
   "cell_type": "markdown",
   "metadata": {},
   "source": [
    "## Map, Filter ve Lambda Uygulamalari"
   ]
  },
  {
   "cell_type": "markdown",
   "metadata": {},
   "source": [
    "#### Soru 4: Asagidaki fonskiyonu 1 parametre alacak (liste tipinde) ve sadece str tipindeki degerleri filter ve lambda ifadelerini kullanarak filtreleyecek bicimde olusturun"
   ]
  },
  {
   "cell_type": "code",
   "execution_count": 18,
   "metadata": {},
   "outputs": [
    {
     "name": "stdout",
     "output_type": "stream",
     "text": [
      "['abc', 'a']\n"
     ]
    },
    {
     "data": {
      "text/plain": [
       "\"\\nparametre: rastgele tipte elemanlar iceren\\ntip:       liste\\nörnek:     [1,2,3,5,'abc','a',True]\\n\\nr-return:  sadece string tipindeki degerleri iceren\\nr-tip:     liste\\nr-örnek:   ['abc', 'a']\\n\""
      ]
     },
     "execution_count": 18,
     "metadata": {},
     "output_type": "execute_result"
    }
   ],
   "source": [
    "def str_filtrele(a):\n",
    "    if not isinstance(a , list):\n",
    "        print(\"Liste türünde girmediniz\")\n",
    "        return\n",
    "    \n",
    "    print([*filter(lambda x: isinstance(x , str) , a)])\n",
    "    \n",
    "str_filtrele([1,2,3,5,'abc','a',True])\n",
    "\"\"\"\n",
    "parametre: rastgele tipte elemanlar iceren\n",
    "tip:       liste\n",
    "örnek:     [1,2,3,5,'abc','a',True]\n",
    "\n",
    "r-return:  sadece string tipindeki degerleri iceren\n",
    "r-tip:     liste\n",
    "r-örnek:   ['abc', 'a']\n",
    "\"\"\""
   ]
  },
  {
   "cell_type": "markdown",
   "metadata": {},
   "source": [
    "#### Soru 5: Asagidaki fonskiyonu 1 parametre alacak (sadece sayi iceren liste tipinde) ve map ve lambda ifadelerini kullanarak 6 sifir atacak bicimde olusturun"
   ]
  },
  {
   "cell_type": "code",
   "execution_count": 20,
   "metadata": {},
   "outputs": [
    {
     "name": "stdout",
     "output_type": "stream",
     "text": [
      "[1, 90, 15]\n"
     ]
    },
    {
     "data": {
      "text/plain": [
       "'\\nparametre: sayi tipinde elemanlar iceren\\ntip:       liste\\nörnek:     [1000000, 90000000, 15000000]\\n\\nr-return:  liste elemanlarinin 6 sifir atilmis halinde\\nr-tip:     liste\\nr-örnek:   [1, 90, 15]\\n'"
      ]
     },
     "execution_count": 20,
     "metadata": {},
     "output_type": "execute_result"
    }
   ],
   "source": [
    "def paradan_alti_sifir_at(a):\n",
    "    if not isinstance(a , list):\n",
    "        print(\"Liste türünde girmediniz\")\n",
    "        return\n",
    "    \n",
    "    print([*map(lambda x: int(x/1000000) , a)])\n",
    "    \n",
    "paradan_alti_sifir_at([1000000, 90000000, 15000000])\n",
    "\"\"\"\n",
    "parametre: sayi tipinde elemanlar iceren\n",
    "tip:       liste\n",
    "örnek:     [1000000, 90000000, 15000000]\n",
    "\n",
    "r-return:  liste elemanlarinin 6 sifir atilmis halinde\n",
    "r-tip:     liste\n",
    "r-örnek:   [1, 90, 15]\n",
    "\"\"\""
   ]
  },
  {
   "cell_type": "markdown",
   "metadata": {},
   "source": [
    "## Kullanici Girdisi Uygulamasi"
   ]
  },
  {
   "cell_type": "markdown",
   "metadata": {},
   "source": [
    "#### Soru 6: Asagidaki fonskiyonu input komutu ile kullanicidan saat ve dakika alacak bicimde olusuturun."
   ]
  },
  {
   "cell_type": "code",
   "execution_count": 1,
   "metadata": {},
   "outputs": [
    {
     "name": "stdout",
     "output_type": "stream",
     "text": [
      "Saat bu aralıkta olamaz.\n",
      "Saat bu aralıkta olamaz.\n",
      "Sayı girmediniz. Tekrar giriniz.\n",
      "Saat: 23 - Dakika: 54\n"
     ]
    },
    {
     "data": {
      "text/plain": [
       "'\\nparametre: None\\ntip:       None\\nörnek:     None\\n\\nr-return:  Saati ekrana döndür\\nr-tip:     String\\nr-örnek:   saat: 23,       dakika: 59\\n'"
      ]
     },
     "execution_count": 1,
     "metadata": {},
     "output_type": "execute_result"
    }
   ],
   "source": [
    "def zaman_verisi_al():\n",
    "    while True:\n",
    "        s = input(\"Saati giriniz: \")\n",
    "        \n",
    "        if not s.isdigit():\n",
    "            print(\"Sayı girmediniz. Tekrar giriniz.\")\n",
    "            continue\n",
    "        elif not (int(s)>=0 and int(s)<24):\n",
    "            print(\"Saat bu aralıkta olamaz.\")\n",
    "            continue\n",
    "        else:\n",
    "            break\n",
    "    \n",
    "    while True:    \n",
    "        d = input(\"Dakikayı giriniz: \")\n",
    "        \n",
    "        if not d.isdigit():\n",
    "            print(\"Sayı girmediniz. Tekrar giriniz.\")\n",
    "            continue\n",
    "        elif not (int(d)>=0 and int(d)<60):\n",
    "            print(\"Dakika bu aralıkta olamaz.\")\n",
    "            continue\n",
    "        else:\n",
    "            break\n",
    "        \n",
    "    print(f\"Saat: {s} - Dakika: {d}\")\n",
    "    \n",
    "zaman_verisi_al()\n",
    "\"\"\"\n",
    "parametre: None\n",
    "tip:       None\n",
    "örnek:     None\n",
    "\n",
    "r-return:  Saati ekrana döndür\n",
    "r-tip:     String\n",
    "r-örnek:   saat: 23,       dakika: 59\n",
    "\"\"\""
   ]
  }
 ],
 "metadata": {
  "kernelspec": {
   "display_name": "Python 3",
   "language": "python",
   "name": "python3"
  },
  "language_info": {
   "codemirror_mode": {
    "name": "ipython",
    "version": 3
   },
   "file_extension": ".py",
   "mimetype": "text/x-python",
   "name": "python",
   "nbconvert_exporter": "python",
   "pygments_lexer": "ipython3",
   "version": "3.11.9"
  }
 },
 "nbformat": 4,
 "nbformat_minor": 4
}
